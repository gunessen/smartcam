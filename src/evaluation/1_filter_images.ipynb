{
 "cells": [
  {
   "cell_type": "code",
   "execution_count": 17,
   "metadata": {},
   "outputs": [],
   "source": [
    "# The goal of this notebook is to create the database and tables for the metadata of the dataset\n",
    "# This is necessary to be able to query the data more efficiently compared to the current method of reading the data from a large json file"
   ]
  },
  {
   "cell_type": "code",
   "execution_count": 18,
   "metadata": {},
   "outputs": [],
   "source": [
    "from pycocotools.coco import COCO\n",
    "from collections import defaultdict, Counter\n",
    "from enum import IntEnum\n",
    "import json"
   ]
  },
  {
   "cell_type": "code",
   "execution_count": 19,
   "metadata": {},
   "outputs": [
    {
     "name": "stdout",
     "output_type": "stream",
     "text": [
      "loading annotations into memory...\n",
      "Done (t=6.40s)\n",
      "creating index...\n",
      "index created!\n"
     ]
    }
   ],
   "source": [
    "# Load the COCO dataset for ground truths\n",
    "cocoGt = COCO('Objects365/test/zhiyuan_objv2_test.json')"
   ]
  },
  {
   "cell_type": "code",
   "execution_count": 20,
   "metadata": {},
   "outputs": [],
   "source": [
    "# Count categories in each image\n",
    "if cocoGt is not None:\n",
    "    # Create a dictionary to count category occurrences per image\n",
    "    img_obj = defaultdict(Counter)\n",
    "\n",
    "    # Utilize the imgToAnns property to access annotations for each image\n",
    "    for img_id, anns in cocoGt.imgToAnns.items():\n",
    "        # Access all annotations for the current image\n",
    "        for ann in anns:\n",
    "            # Increment the count for this category\n",
    "            img_obj[img_id][ann['category_id']] += 1"
   ]
  },
  {
   "cell_type": "code",
   "execution_count": 21,
   "metadata": {},
   "outputs": [],
   "source": [
    "# Enumerate the Objects365 categories\n",
    "class o365_cat(IntEnum):\n",
    "    PERSON = 1\n",
    "    CAT = 140\n",
    "    DOG = 93\n",
    "    PIGEON = 165\n",
    "    PARROT = 320\n",
    "\n",
    "# Filter the images based on the number of objects in each category\n",
    "filtered_anns = dict()\n",
    "for img_id, cnt in img_obj.items():\n",
    "    # Single-element combinations\n",
    "    if 1 < cnt[o365_cat.PERSON] <= 3 and cnt[o365_cat.CAT] == 0 and cnt[o365_cat.DOG] == 0 and (cnt[o365_cat.PIGEON] == 0 and cnt[o365_cat.PARROT] == 0):\n",
    "        filtered_anns[img_id] = cnt # 1-3 people and no animals\n",
    "    elif cnt[o365_cat.PERSON] == 0 and 1 < cnt[o365_cat.CAT] <= 3 and cnt[o365_cat.DOG] == 0 and (cnt[o365_cat.PIGEON] == 0 and cnt[o365_cat.PARROT] == 0):\n",
    "        filtered_anns[img_id] = cnt # 1-3 cats and no other animals\n",
    "    elif cnt[o365_cat.PERSON] == 0 and cnt[o365_cat.CAT] == 0 and 1 < cnt[o365_cat.DOG] <= 3 and (cnt[o365_cat.PIGEON] == 0 and cnt[o365_cat.PARROT] == 0):\n",
    "        filtered_anns[img_id] = cnt # 1-3 dogs and no other animals\n",
    "    elif cnt[o365_cat.PERSON] == 0 and cnt[o365_cat.CAT] == 0 and cnt[o365_cat.DOG] == 0 and 1 < cnt[o365_cat.PIGEON] + cnt[o365_cat.PARROT] <= 3:\n",
    "        filtered_anns[img_id] = cnt # 1-3 birds and no other animals\n",
    "    \n",
    "    # Two-element combinations\n",
    "    elif 1 < cnt[o365_cat.PERSON] <= 3 and 1 < cnt[o365_cat.CAT] <= 3 and cnt[o365_cat.DOG] == 0 and (cnt[o365_cat.PIGEON] == 0 and cnt[o365_cat.PARROT] == 0):\n",
    "        filtered_anns[img_id] = cnt # 1-3 people and 1-3 cats and no other animals\n",
    "    elif 1 < cnt[o365_cat.PERSON] <= 3 and cnt[o365_cat.CAT] == 0 and 1 < cnt[o365_cat.DOG] <= 3 and (cnt[o365_cat.PIGEON] == 0 and cnt[o365_cat.PARROT] == 0):\n",
    "        filtered_anns[img_id] = cnt # 1-3 people and 1-3 dogs and no other animals\n",
    "    elif 1 < cnt[o365_cat.PERSON] <= 3 and cnt[o365_cat.CAT] == 0 and cnt[o365_cat.DOG] == 0 and 1 < cnt[o365_cat.PIGEON] + cnt[o365_cat.PARROT] <= 3:\n",
    "        filtered_anns[img_id] = cnt # 1-3 people and 1-3 birds and no other animals\n",
    "    elif cnt[o365_cat.PERSON] == 0 and 1 < cnt[o365_cat.CAT] <= 3 and 1 < cnt[o365_cat.DOG] <= 3 and (cnt[o365_cat.PIGEON] == 0 and cnt[o365_cat.PARROT] == 0):\n",
    "        filtered_anns[img_id] = cnt # 1-3 cats and 1-3 dogs and no other animals\n",
    "    elif cnt[o365_cat.PERSON] == 0 and 1 < cnt[o365_cat.CAT] <= 3 and cnt[o365_cat.DOG] == 0 and 1 < cnt[o365_cat.PIGEON] + cnt[o365_cat.PARROT] <= 3:\n",
    "        filtered_anns[img_id] = cnt # 1-3 cats and 1-3 birds and no other animals\n",
    "    elif cnt[o365_cat.PERSON] == 0 and cnt[o365_cat.CAT] == 0 and 1 < cnt[o365_cat.DOG] <= 3 and 1 < cnt[o365_cat.PIGEON] + cnt[o365_cat.PARROT] <= 3:\n",
    "        filtered_anns[img_id] = cnt # 1-3 dogs and 1-3 birds and no other animals\n",
    "    \n",
    "    # Three-element combinations\n",
    "    elif 1 < cnt[o365_cat.PERSON] <= 3 and 1 < cnt[o365_cat.CAT] <= 3 and 1 < cnt[o365_cat.DOG] <= 3 and (cnt[o365_cat.PIGEON] == 0 and cnt[o365_cat.PARROT] == 0):\n",
    "        filtered_anns[img_id] = cnt # 1-3 people and 1-3 cats and 1-3 dogs and no other animals\n",
    "    elif 1 < cnt[o365_cat.PERSON] <= 3 and 1 < cnt[o365_cat.CAT] <= 3 and cnt[o365_cat.DOG] == 0 and 1 < cnt[o365_cat.PIGEON] + cnt[o365_cat.PARROT] <= 3:\n",
    "        filtered_anns[img_id] = cnt # 1-3 people and 1-3 cats and 1-3 birds and no other animals\n",
    "    elif 1 < cnt[o365_cat.PERSON] <= 3 and cnt[o365_cat.CAT] == 0 and 1 < cnt[o365_cat.DOG] <= 3 and 1 < cnt[o365_cat.PIGEON] + cnt[o365_cat.PARROT] <= 3:\n",
    "        filtered_anns[img_id] = cnt # 1-3 people and 1-3 dogs and 1-3 birds and no other animals\n",
    "    elif cnt[o365_cat.PERSON] == 0 and 1 < cnt[o365_cat.CAT] <= 3 and 1 < cnt[o365_cat.DOG] <= 3 and 1 < cnt[o365_cat.PIGEON] + cnt[o365_cat.PARROT] <= 3:\n",
    "        filtered_anns[img_id] = cnt # 1-3 cats and 1-3 dogs and 1-3 birds and no other animals\n",
    "    \n",
    "    # Four-element combinations\n",
    "    elif 1 < cnt[o365_cat.PERSON] <= 3 and 1 < cnt[o365_cat.CAT] <= 3 and 1 < cnt[o365_cat.DOG] <= 3 and 1 < cnt[o365_cat.PIGEON] + cnt[o365_cat.PARROT] <= 3:\n",
    "        filtered_anns[img_id] = cnt # 1-3 people and 1-3 cats and 1-3 dogs and 1-3 birds"
   ]
  },
  {
   "cell_type": "code",
   "execution_count": 22,
   "metadata": {},
   "outputs": [],
   "source": [
    "# Enumerate the COCO categories\n",
    "class coco_cat(IntEnum):\n",
    "    PERSON = 0\n",
    "    CAT = 15\n",
    "    DOG = 16\n",
    "    BIRD = 14\n",
    "\n",
    "# Convert the filtered annotations to COCO format\n",
    "filtered_coco = {\n",
    "    'images': [],\n",
    "    'annotations': [],\n",
    "    'categories': []\n",
    "}\n",
    "\n",
    "for img_id, cnt in filtered_anns.items():\n",
    "    # Access the annotations for the current image\n",
    "    anns = cocoGt.imgToAnns[img_id]\n",
    "\n",
    "    # Check for 'iscrowd' flag in any annotations; skip to next image if found\n",
    "    if any(ann.get('iscrowd', 0) == 1 for ann in anns if ann['category_id'] in [cat.value for cat in o365_cat]):\n",
    "        continue\n",
    "\n",
    "    for ann in anns:\n",
    "        # Check if the current annotation is in the filtered list\n",
    "        if ann['category_id'] in [cat.value for cat in o365_cat]:\n",
    "            # Create a new annotation for the current image\n",
    "            new_ann = ann.copy()\n",
    "            match new_ann['category_id']:\n",
    "                case o365_cat.PERSON:\n",
    "                    new_ann['category_id'] = coco_cat.PERSON\n",
    "                case o365_cat.CAT:\n",
    "                    new_ann['category_id'] = coco_cat.CAT\n",
    "                case o365_cat.DOG:\n",
    "                    new_ann['category_id'] = coco_cat.DOG\n",
    "                case o365_cat.PIGEON:\n",
    "                    new_ann['category_id'] = coco_cat.BIRD\n",
    "                case o365_cat.PARROT:\n",
    "                    new_ann['category_id'] = coco_cat.BIRD\n",
    "            filtered_coco['annotations'].append(new_ann)\n",
    "\n",
    "    # Add image info to the filtered COCO dataset\n",
    "    filtered_coco['images'].append(cocoGt.imgs[img_id])\n",
    "    \n",
    "# Add the COCO categories to the filtered COCO dataset\n",
    "filtered_coco['categories'].append({\n",
    "    'id': coco_cat.PERSON,\n",
    "    'name': 'person',\n",
    "    'supercategory': 'person'\n",
    "})\n",
    "filtered_coco['categories'].append({\n",
    "    'id': coco_cat.CAT,\n",
    "    'name': 'cat',\n",
    "    'supercategory': 'animal'\n",
    "})\n",
    "filtered_coco['categories'].append({\n",
    "    'id': coco_cat.DOG,\n",
    "    'name': 'dog',\n",
    "    'supercategory': 'animal'\n",
    "})\n",
    "filtered_coco['categories'].append({\n",
    "    'id': coco_cat.BIRD,\n",
    "    'name': 'bird',\n",
    "    'supercategory': 'animal'\n",
    "})"
   ]
  },
  {
   "cell_type": "code",
   "execution_count": 23,
   "metadata": {},
   "outputs": [
    {
     "name": "stdout",
     "output_type": "stream",
     "text": [
      "Images: 40595\n",
      "Annotations: 97592\n",
      "Categories: 4\n"
     ]
    }
   ],
   "source": [
    "with open('Objects365/test/filtered_data_coco.json', 'w') as f:\n",
    "    json.dump(filtered_coco, f)\n",
    "\n",
    "print(f\"Images: {len(filtered_coco['images'])}\")\n",
    "print(f\"Annotations: {len(filtered_coco['annotations'])}\")\n",
    "print(f\"Categories: {len(filtered_coco['categories'])}\")"
   ]
  }
 ],
 "metadata": {
  "kernelspec": {
   "display_name": ".smartcam",
   "language": "python",
   "name": "python3"
  },
  "language_info": {
   "codemirror_mode": {
    "name": "ipython",
    "version": 3
   },
   "file_extension": ".py",
   "mimetype": "text/x-python",
   "name": "python",
   "nbconvert_exporter": "python",
   "pygments_lexer": "ipython3",
   "version": "3.11.4"
  }
 },
 "nbformat": 4,
 "nbformat_minor": 2
}
