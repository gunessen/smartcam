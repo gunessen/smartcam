{
 "cells": [
  {
   "cell_type": "code",
   "execution_count": 1,
   "metadata": {},
   "outputs": [],
   "source": [
    "from pycocotools.coco import COCO\n",
    "import cv2"
   ]
  },
  {
   "cell_type": "code",
   "execution_count": 2,
   "metadata": {},
   "outputs": [
    {
     "name": "stdout",
     "output_type": "stream",
     "text": [
      "loading annotations into memory...\n",
      "Done (t=0.27s)\n",
      "creating index...\n",
      "index created!\n"
     ]
    }
   ],
   "source": [
    "# Load the COCO dataset for ground truths\n",
    "# cocoGt = COCO('Objects365/test/zhiyuan_objv2_test.json')\n",
    "cocoGt = COCO('Objects365/test/filtered_data_coco.json')"
   ]
  },
  {
   "cell_type": "code",
   "execution_count": 3,
   "metadata": {},
   "outputs": [
    {
     "name": "stdout",
     "output_type": "stream",
     "text": [
      "images/v1/patch12/objects365_v1_00590401.jpg\n"
     ]
    }
   ],
   "source": [
    "IMAGES_PATH = 'Objects365/test'\n",
    "IMAGE_ID = 590401\n",
    "IMAGE_FILE = cocoGt.imgs[IMAGE_ID]['file_name']\n",
    "print(IMAGE_FILE)\n",
    "\n",
    "# Get bounding boxes and labels from the COCO dataset\n",
    "annIds = cocoGt.getAnnIds(imgIds=[IMAGE_ID], iscrowd=None)\n",
    "anns = cocoGt.loadAnns(annIds)"
   ]
  },
  {
   "cell_type": "code",
   "execution_count": 4,
   "metadata": {},
   "outputs": [],
   "source": [
    "# Draw the image using OpenCV\n",
    "image = cv2.imread(f'{IMAGES_PATH}/{IMAGE_FILE}')\n",
    "\n",
    "# Check if the image is loaded\n",
    "if image is None:\n",
    "    print(\"Failed to load the image\")\n",
    "else:\n",
    "    # Loop over all bounding boxes\n",
    "    for ann in anns:\n",
    "        bbox = ann['bbox']\n",
    "        category_id = ann['category_id']\n",
    "        category_name = cocoGt.cats[category_id]['name']\n",
    "\n",
    "        # Get the coordinates of the bounding box\n",
    "        x, y, w, h = bbox\n",
    "        \n",
    "        # Draw rectangle on the image\n",
    "        cv2.rectangle(image, (int(x), int(y)), (int(x+w), int(y+h)), (0, 255, 0), 2)\n",
    "\n",
    "        # If category name is present, display it\n",
    "        if category_name:\n",
    "            cv2.putText(image, category_name, (int(x), int(y) - 10), cv2.FONT_HERSHEY_SIMPLEX, 0.5, (36,255,12), 2)\n",
    "\n",
    "    # Display the image\n",
    "    cv2.imshow('Image with Bounding Boxes', image)\n",
    "    cv2.waitKey(0)\n",
    "    cv2.destroyAllWindows()"
   ]
  }
 ],
 "metadata": {
  "kernelspec": {
   "display_name": ".smartcam",
   "language": "python",
   "name": "python3"
  },
  "language_info": {
   "codemirror_mode": {
    "name": "ipython",
    "version": 3
   },
   "file_extension": ".py",
   "mimetype": "text/x-python",
   "name": "python",
   "nbconvert_exporter": "python",
   "pygments_lexer": "ipython3",
   "version": "3.11.4"
  }
 },
 "nbformat": 4,
 "nbformat_minor": 2
}
