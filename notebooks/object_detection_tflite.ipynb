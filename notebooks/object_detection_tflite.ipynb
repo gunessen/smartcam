{
 "cells": [
  {
   "cell_type": "code",
   "execution_count": 5,
   "metadata": {},
   "outputs": [],
   "source": [
    "# https://github.com/tensorflow/examples/blob/master/lite/examples/object_detection/raspberry_pi/detect.py\n",
    "import cv2\n",
    "from tflite_support.task import core\n",
    "from tflite_support.task import processor\n",
    "from tflite_support.task import vision\n",
    "import time"
   ]
  },
  {
   "cell_type": "code",
   "execution_count": 3,
   "metadata": {},
   "outputs": [
    {
     "name": "stdout",
     "output_type": "stream",
     "text": [
      "/home/matrik/Yandex.Disk/CM3070_FP/code/src\n"
     ]
    }
   ],
   "source": [
    "import os\n",
    "\n",
    "os.chdir('../src')\n",
    "print(os.getcwd())"
   ]
  },
  {
   "cell_type": "code",
   "execution_count": 4,
   "metadata": {},
   "outputs": [
    {
     "name": "stderr",
     "output_type": "stream",
     "text": [
      "OpenCV: FFMPEG: tag 0x30385056/'VP80' is not supported with codec id 139 and format 'webm / WebM'\n"
     ]
    }
   ],
   "source": [
    "in_video_path = './evaluation/DCSASS Dataset/Stealing/Stealing002_x264.mp4/Stealing002_x264_9.mp4'\n",
    "store_out_video = True\n",
    "output_codec=\"VP80\"\n",
    "output_ext = \"webm\"\n",
    "\n",
    "cap = cv2.VideoCapture(in_video_path)\n",
    "if not cap.isOpened():\n",
    "    print(f\"Failed to open video: {in_video_path}\")\n",
    "    # return set()\n",
    "\n",
    "# Get the frame width, height, and FPS\n",
    "frame_width = int(cap.get(cv2.CAP_PROP_FRAME_WIDTH))\n",
    "frame_height = int(cap.get(cv2.CAP_PROP_FRAME_HEIGHT))\n",
    "fps = int(cap.get(cv2.CAP_PROP_FPS))\n",
    "\n",
    "# Define the output path\n",
    "output_path = None\n",
    "if store_out_video and in_video_path.endswith(\"_unannotated.avi\"):\n",
    "    output_path = in_video_path.replace(\"_unannotated.avi\", f\".{output_ext}\")\n",
    "elif store_out_video:\n",
    "    output_path = in_video_path[: in_video_path.rfind(\".\")] + f\"_annotated.{output_ext}\"\n",
    "\n",
    "# Initialize the video writer\n",
    "out = (\n",
    "    cv2.VideoWriter(\n",
    "        output_path, cv2.VideoWriter_fourcc(*output_codec), fps, (frame_width, frame_height)\n",
    "    )\n",
    "    if store_out_video\n",
    "    else None\n",
    ")\n"
   ]
  },
  {
   "cell_type": "code",
   "execution_count": 15,
   "metadata": {},
   "outputs": [],
   "source": [
    "# Initialize the object detection model\n",
    "base_options = core.BaseOptions(\n",
    "    file_name='/home/matrik/Yandex.Disk/CM3070_FP/code/models/efficientdet-lite/efficientdet-lite4-detection-metadata.tflite', use_coral=False, num_threads=4)\n",
    "detection_options = processor.DetectionOptions(\n",
    "    max_results=3, score_threshold=0.5)\n",
    "options = vision.ObjectDetectorOptions(\n",
    "    base_options=base_options, detection_options=detection_options)\n",
    "detector = vision.ObjectDetector.create_from_options(options)"
   ]
  },
  {
   "cell_type": "code",
   "execution_count": null,
   "metadata": {},
   "outputs": [],
   "source": [
    "processed_frames = 0\n",
    "start_time = time.time()\n",
    "\n",
    "\n",
    "while cap.isOpened():\n",
    "    ret, frame = cap.read()\n",
    "    if not ret:\n",
    "        break\n",
    "\n",
    "    # Read the frame and resize it\n",
    "    frame = cv2.flip(frame, 1)\n",
    "    frame_rgb = cv2.cvtColor(frame, cv2.COLOR_BGR2RGB)\n",
    "\n",
    "    # Create a TensorImage object from the RGB image.\n",
    "    input_tensor = vision.TensorImage.create_from_array(frame_rgb)\n",
    "\n",
    "    # Run object detection estimation using the model.\n",
    "    detection_result = detector.detect(input_tensor)\n",
    "\n",
    "    processed_frames += 1"
   ]
  }
 ],
 "metadata": {
  "kernelspec": {
   "display_name": ".smartcam",
   "language": "python",
   "name": "python3"
  },
  "language_info": {
   "codemirror_mode": {
    "name": "ipython",
    "version": 3
   },
   "file_extension": ".py",
   "mimetype": "text/x-python",
   "name": "python",
   "nbconvert_exporter": "python",
   "pygments_lexer": "ipython3",
   "version": "3.11.4"
  }
 },
 "nbformat": 4,
 "nbformat_minor": 2
}
