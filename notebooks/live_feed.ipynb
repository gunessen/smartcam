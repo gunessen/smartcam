{
 "cells": [
  {
   "cell_type": "code",
   "execution_count": 87,
   "id": "92b571fa-2eee-41c3-a696-f325196b052e",
   "metadata": {},
   "outputs": [],
   "source": [
    "import cv2\n",
    "import numpy as np\n",
    "import time"
   ]
  },
  {
   "cell_type": "code",
   "execution_count": 88,
   "id": "31640948-34f8-4ace-998d-2514d88dcf8e",
   "metadata": {},
   "outputs": [
    {
     "data": {
      "text/plain": [
       "(True, 1280.0, 720.0, 3.0, 166.0, -1.0, 50.0, 65.0, 0.0, 10.0)"
      ]
     },
     "execution_count": 88,
     "metadata": {},
     "output_type": "execute_result"
    }
   ],
   "source": [
    "if cap and cap.isOpened():\n",
    "    cap.release()\n",
    "    \n",
    "# Start the webcam using V4L2 backend (default)\n",
    "# TODO: possible edge case that video index starts from an arbitrary number,\n",
    "# then list devices with /dev/video* and choose the first one\n",
    "cap = cv2.VideoCapture(0, cv2.CAP_V4L2)\n",
    "\n",
    "# Set the codec to MJPEG (available formats: `v4l2-ctl --list-formats-ext`)\n",
    "fourcc = cv2.VideoWriter_fourcc(*'MJPG')\n",
    "cap.set(cv2.CAP_PROP_FOURCC, fourcc)\n",
    "\n",
    "# Available controls: `v4l2-ctl --list-ctrls`\n",
    "cap.set(cv2.CAP_PROP_FRAME_WIDTH, 1280)\n",
    "cap.set(cv2.CAP_PROP_FRAME_HEIGHT, 720)\n",
    "cap.set(cv2.CAP_PROP_FPS, 10)\n",
    "# cap.set(cv2.CAP_PROP_AUTO_EXPOSURE, -4)\n",
    "# cap.set(cv2.CAP_PROP_EXPOSURE, 20)\n",
    "\n",
    "cap.get(cv2.CAP_PROP_FOURCC) == fourcc, cap.get(cv2.CAP_PROP_FRAME_WIDTH), cap.get(cv2.CAP_PROP_FRAME_HEIGHT), \\\n",
    "cap.get(cv2.CAP_PROP_AUTO_EXPOSURE), cap.get(cv2.CAP_PROP_EXPOSURE), cap.get(cv2.CAP_PROP_GAIN), cap.get(cv2.CAP_PROP_CONTRAST), cap.get(cv2.CAP_PROP_SATURATION), \\\n",
    "cap.get(cv2.CAP_PROP_BRIGHTNESS), cap.get(cv2.CAP_PROP_FPS)"
   ]
  },
  {
   "cell_type": "code",
   "execution_count": 89,
   "id": "c4a2603e-3535-4308-be55-d61de278e65c",
   "metadata": {},
   "outputs": [],
   "source": [
    "\n",
    "\n",
    "# Optional: Set camera resolution (if needed)\n",
    "# cap.set(cv2.CAP_PROP_FRAME_WIDTH, 1280)\n",
    "# cap.set(cv2.CAP_PROP_FRAME_HEIGHT, 720)\n",
    "# cap.set(cv2.CAP_PROP_AUTO_EXPOSURE, 0.25)  # 0.25 setting disables auto-exposure\n",
    "# cap.set(cv2.CAP_PROP_EXPOSURE, -4)         # Adjust this based on your environment\n",
    "\n",
    "while True:\n",
    "    ret, frame = cap.read()\n",
    "    if not ret:\n",
    "        break\n",
    "\n",
    "    height, width, channels = frame.shape\n",
    "    \n",
    "    cv2.imshow(\"Image\", frame)\n",
    "    key = cv2.waitKey(1)\n",
    "    if key == 27: # ESC key to break\n",
    "        break\n",
    "\n",
    "# Clean up\n",
    "cap.release()\n",
    "cv2.destroyAllWindows()"
   ]
  },
  {
   "cell_type": "code",
   "execution_count": null,
   "id": "7cbc63f8-3c72-422f-8ed8-cb69b7ec871f",
   "metadata": {},
   "outputs": [],
   "source": []
  }
 ],
 "metadata": {
  "kernelspec": {
   "display_name": "Python 3 (ipykernel)",
   "language": "python",
   "name": "python3"
  },
  "language_info": {
   "codemirror_mode": {
    "name": "ipython",
    "version": 3
   },
   "file_extension": ".py",
   "mimetype": "text/x-python",
   "name": "python",
   "nbconvert_exporter": "python",
   "pygments_lexer": "ipython3",
   "version": "3.11.4"
  }
 },
 "nbformat": 4,
 "nbformat_minor": 5
}
