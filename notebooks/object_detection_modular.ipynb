{
 "cells": [
  {
   "cell_type": "code",
   "execution_count": 1,
   "metadata": {},
   "outputs": [],
   "source": [
    "import cv2\n",
    "\n",
    "import sys\n",
    "import os\n",
    "import datetime\n",
    "\n",
    "# Add the src directory to the sys.path list\n",
    "sys.path.insert(0, os.path.abspath('../src'))\n",
    "from object_detector import ObjectDetector\n",
    "from video_capture import VideoCapture\n",
    "from motion_detector import MotionDetector\n",
    "from video_recorder import VideoRecorder"
   ]
  },
  {
   "cell_type": "code",
   "execution_count": 2,
   "metadata": {},
   "outputs": [],
   "source": [
    "# Initialize camera and object detector\n",
    "camera = VideoCapture()\n",
    "detector = ObjectDetector(\n",
    "    \"../models/yolov7-tiny/yolov7-tiny.cfg\",\n",
    "    \"../models/yolov7-tiny/yolov7-tiny.weights\",\n",
    "    \"../data/coco.names\",\n",
    ")\n",
    "motion_detector = MotionDetector()\n",
    "# video_recorder = VideoRecorder(folder=\"../videos\")"
   ]
  },
  {
   "cell_type": "code",
   "execution_count": 3,
   "metadata": {},
   "outputs": [
    {
     "name": "stderr",
     "output_type": "stream",
     "text": [
      "OpenCV: FFMPEG: tag 0x34363248/'H264' is not supported with codec id 27 and format 'mp4 / MP4 (MPEG-4 Part 14)'\n",
      "OpenCV: FFMPEG: fallback to use tag 0x31637661/'avc1'\n",
      "[ERROR:0@2.014] global cap_ffmpeg_impl.hpp:3018 open Could not find encoder for codec_id=27, error: Encoder not found\n",
      "[ERROR:0@2.014] global cap_ffmpeg_impl.hpp:3093 open VIDEOIO/FFMPEG: Failed to initialize VideoWriter\n"
     ]
    }
   ],
   "source": [
    "recording = False\n",
    "start_time = None\n",
    "\n",
    "while True:\n",
    "    frame = camera.read_frame()\n",
    "    if frame is None:\n",
    "        break\n",
    "\n",
    "    font = cv2.FONT_HERSHEY_SIMPLEX\n",
    "    color = (0, 255, 0)\n",
    "    if motion_detector.detect_motion(frame):\n",
    "        cv2.putText(frame, \"M\", (10, 30), font, 0.5, color, 2)\n",
    "        if not recording:\n",
    "            recording = True\n",
    "            start_time = datetime.datetime.now()\n",
    "            video_recorder = VideoRecorder(folder=\"../videos\", fps=camera.get_fps(), width=camera.get_frame_width(), height=camera.get_frame_height())\n",
    "    \n",
    "    if recording:\n",
    "        cv2.putText(frame, \"R\", (30, 30), font, 0.5, color, 2)\n",
    "        video_recorder.write_frame(frame)\n",
    "        if (datetime.datetime.now() - start_time).total_seconds() > 5:\n",
    "            recording = False\n",
    "            video_recorder.release()\n",
    "            del video_recorder\n",
    "\n",
    "    # TODO: start object detection when video recording stops\n",
    "    # outs = detector.detect_objects(frame)\n",
    "    # boxes, confidences, class_ids = detector.process_detections_vectorized(outs, frame, 0.5)\n",
    "    # object_details = detector.get_object_details(boxes, confidences, class_ids, True)\n",
    "    # detector.draw_frame_bounding_boxes(frame, object_details)\n",
    "\n",
    "    cv2.imshow(\"Object detection\", frame)\n",
    "\n",
    "    if cv2.waitKey(1) == 27:\n",
    "        break\n",
    "\n",
    "cv2.destroyAllWindows()"
   ]
  },
  {
   "cell_type": "code",
   "execution_count": null,
   "metadata": {},
   "outputs": [],
   "source": [
    "camera.release()"
   ]
  }
 ],
 "metadata": {
  "kernelspec": {
   "display_name": "code-dHgL50rw",
   "language": "python",
   "name": "python3"
  },
  "language_info": {
   "codemirror_mode": {
    "name": "ipython",
    "version": 3
   },
   "file_extension": ".py",
   "mimetype": "text/x-python",
   "name": "python",
   "nbconvert_exporter": "python",
   "pygments_lexer": "ipython3",
   "version": "3.11.4"
  }
 },
 "nbformat": 4,
 "nbformat_minor": 2
}
