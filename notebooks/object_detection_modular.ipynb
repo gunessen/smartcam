{
 "cells": [
  {
   "cell_type": "code",
   "execution_count": 5,
   "metadata": {},
   "outputs": [],
   "source": [
    "import cv2\n",
    "\n",
    "import sys\n",
    "import os\n",
    "from datetime import datetime, UTC\n",
    "import threading\n",
    "import queue\n",
    "\n",
    "\n",
    "# Add the src directory to the sys.path list\n",
    "sys.path.insert(0, os.path.abspath('../src'))\n",
    "from services.event_service import add_event\n",
    "from db_models.init_db import create_tables\n",
    "from surveillance_daemon.object_detector import ObjectDetector\n",
    "from surveillance_daemon.video_capture import VideoCapture\n",
    "from surveillance_daemon.motion_detector import MotionDetector\n",
    "from surveillance_daemon.video_recorder import VideoRecorder\n",
    "from surveillance_daemon.notification import Notification"
   ]
  },
  {
   "cell_type": "code",
   "execution_count": 6,
   "metadata": {},
   "outputs": [],
   "source": [
    "# Initialize the database session\n",
    "create_tables()\n",
    "\n",
    "# Initialize system components\n",
    "object_detector = ObjectDetector(\n",
    "    \"../models/yolov7-tiny/yolov7-tiny.cfg\",\n",
    "    \"../models/yolov7-tiny/yolov7-tiny.weights\",\n",
    "    \"../data/coco.names\",\n",
    ")\n",
    "motion_detector = MotionDetector()\n",
    "notification = Notification(to_email=\"gunes314@gmail.com\")"
   ]
  },
  {
   "cell_type": "code",
   "execution_count": 7,
   "metadata": {},
   "outputs": [],
   "source": [
    "# Queue to store video paths to be processed\n",
    "video_queue = queue.Queue()\n",
    "\n",
    "def worker():\n",
    "    \"\"\"Worker thread that processes video files from the queue.\"\"\"\n",
    "    while True:\n",
    "        print(\"Start object detection worker.\")\n",
    "        # Unpack the video information from the queue\n",
    "        raw_video_path, video_length, event_time = video_queue.get()\n",
    "        if raw_video_path is None:\n",
    "            break\n",
    "\n",
    "        # Perform object detection on the unannotated video\n",
    "        detected_objects, video_path = object_detector.process_video(raw_video_path)\n",
    "        print(video_path)\n",
    "\n",
    "        # Add the event to the database\n",
    "        add_event(video_path, detected_objects, event_time, video_length)\n",
    "\n",
    "        # Remove the unannotated video\n",
    "        os.remove(raw_video_path)\n",
    "\n",
    "        # send a notification if an object is detected\n",
    "        if detected_objects:\n",
    "            notification.send(detected_objects)\n",
    "        video_queue.task_done()\n",
    "\n",
    "# Create and start the worker thread\n",
    "num_worker_threads = 1\n",
    "threads = []\n",
    "for i in range(num_worker_threads):\n",
    "    t = threading.Thread(target=worker)\n",
    "    t.start()\n",
    "    threads.append(t)"
   ]
  },
  {
   "cell_type": "code",
   "execution_count": 8,
   "metadata": {},
   "outputs": [
    {
     "name": "stderr",
     "output_type": "stream",
     "text": [
      "OpenCV: FFMPEG: tag 0x30385056/'VP80' is not supported with codec id 139 and format 'webm / WebM'\n",
      "OpenCV: FFMPEG: tag 0x30385056/'VP80' is not supported with codec id 139 and format 'webm / WebM'\n",
      "OpenCV: FFMPEG: tag 0x30385056/'VP80' is not supported with codec id 139 and format 'webm / WebM'\n",
      "OpenCV: FFMPEG: tag 0x30385056/'VP80' is not supported with codec id 139 and format 'webm / WebM'\n",
      "OpenCV: FFMPEG: tag 0x30385056/'VP80' is not supported with codec id 139 and format 'webm / WebM'\n"
     ]
    },
    {
     "name": "stdout",
     "output_type": "stream",
     "text": [
      "/home/matrik/Yandex.Disk/CM3070_FP/code/videos/2024-05-18T19:22:46_unannotated.webm\n",
      "/home/matrik/Yandex.Disk/CM3070_FP/code/videos/2024-05-18T19:22:46.webm\n",
      "{'tvmonitor', 'diningtable', 'bowl', 'cup', 'person'}\n",
      "/home/matrik/Yandex.Disk/CM3070_FP/code/videos/2024-05-18T19:22:51_unannotated.webm\n",
      "/home/matrik/Yandex.Disk/CM3070_FP/code/videos/2024-05-18T19:22:51.webm\n",
      "{'cup', 'tvmonitor', 'bowl', 'person'}\n"
     ]
    },
    {
     "name": "stdout",
     "output_type": "stream",
     "text": [
      "Releasing camera\n"
     ]
    }
   ],
   "source": [
    "recording = False\n",
    "event_time = None\n",
    "\n",
    "with VideoCapture(device=0) as camera:\n",
    "    while True:\n",
    "        frame = camera.read_frame()\n",
    "        if frame is None:\n",
    "            break\n",
    "\n",
    "        font = cv2.FONT_HERSHEY_SIMPLEX\n",
    "        color = (0, 255, 0)\n",
    "\n",
    "        # Detect motion and start recording video\n",
    "        if motion_detector.detect_motion(frame):\n",
    "            cv2.putText(frame, \"M\", (10, 30), font, 0.5, color, 2)\n",
    "            if not recording:\n",
    "                print(\"Start recording.\")\n",
    "                recording = True\n",
    "                event_time = datetime.now(UTC)\n",
    "                video_recorder = VideoRecorder(folder=\"/home/matrik/Yandex.Disk/CM3070_FP/code/videos\", fps=camera.get_fps(), width=camera.get_frame_width(), height=camera.get_frame_height())\n",
    "        \n",
    "        # Record video for 5 seconds\n",
    "        if recording:\n",
    "            cv2.putText(frame, \"R\", (30, 30), font, 0.5, color, 2)\n",
    "            video_recorder.write_frame(frame)\n",
    "            video_length = (datetime.now(UTC) - event_time).total_seconds()\n",
    "            if video_length > 5:\n",
    "                print(\"Stop recording.\")\n",
    "                # Start object detection on a separate thread when video recording stops\n",
    "                video_queue.put((video_recorder.get_video_path(), int(video_length), event_time))\n",
    "\n",
    "                # Clear the video recorder object\n",
    "                recording = False\n",
    "                video_recorder.release()\n",
    "                del video_recorder\n",
    "\n",
    "        cv2.imshow(\"Object detection\", frame)\n",
    "        if cv2.waitKey(1) == 27:\n",
    "            break\n",
    "\n",
    "    cv2.destroyAllWindows()"
   ]
  },
  {
   "cell_type": "code",
   "execution_count": null,
   "metadata": {},
   "outputs": [],
   "source": [
    "object_detector.process_video(\"../videos/2024-05-15T23:14:42.avi\")"
   ]
  },
  {
   "cell_type": "code",
   "execution_count": null,
   "metadata": {},
   "outputs": [],
   "source": [
    "camera.release()\n",
    "cv2.destroyAllWindows()"
   ]
  }
 ],
 "metadata": {
  "kernelspec": {
   "display_name": "code-dHgL50rw",
   "language": "python",
   "name": "python3"
  },
  "language_info": {
   "codemirror_mode": {
    "name": "ipython",
    "version": 3
   },
   "file_extension": ".py",
   "mimetype": "text/x-python",
   "name": "python",
   "nbconvert_exporter": "python",
   "pygments_lexer": "ipython3",
   "version": "3.11.4"
  }
 },
 "nbformat": 4,
 "nbformat_minor": 2
}
