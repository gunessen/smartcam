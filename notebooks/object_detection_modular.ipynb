{
 "cells": [
  {
   "cell_type": "code",
   "execution_count": 1,
   "metadata": {},
   "outputs": [],
   "source": [
    "import cv2\n",
    "\n",
    "import sys\n",
    "import os\n",
    "\n",
    "# Add the src directory to the sys.path list\n",
    "sys.path.insert(0, os.path.abspath('../src'))\n",
    "from object_detector import ObjectDetector\n",
    "from video_capture import VideoCapture"
   ]
  },
  {
   "cell_type": "code",
   "execution_count": null,
   "metadata": {},
   "outputs": [],
   "source": [
    "# Initialize camera and object detector\n",
    "camera = VideoCapture()\n",
    "detector = ObjectDetector(\n",
    "    \"../models/yolov7-tiny/yolov7-tiny.cfg\",\n",
    "    \"../models/yolov7-tiny/yolov7-tiny.weights\",\n",
    "    \"../data/coco.names\",\n",
    ")"
   ]
  },
  {
   "cell_type": "code",
   "execution_count": null,
   "metadata": {},
   "outputs": [],
   "source": [
    "while True:\n",
    "    frame = camera.read_frame()\n",
    "    if frame is None:\n",
    "        break\n",
    "\n",
    "    outs = detector.detect_objects(frame)\n",
    "    boxes, confidences, class_ids = detector.process_detections_vectorized(outs, frame, 0.5)\n",
    "    object_details = detector.get_object_details(boxes, confidences, class_ids, True)\n",
    "    detector.draw_frame_bounding_boxes(frame, object_details)\n",
    "\n",
    "    cv2.imshow(\"Object detection\", frame)\n",
    "\n",
    "    if cv2.waitKey(1) == 27:\n",
    "        break\n",
    "\n",
    "cv2.destroyAllWindows()\n"
   ]
  },
  {
   "cell_type": "code",
   "execution_count": null,
   "metadata": {},
   "outputs": [],
   "source": [
    "camera.release()"
   ]
  }
 ],
 "metadata": {
  "kernelspec": {
   "display_name": "code-dHgL50rw",
   "language": "python",
   "name": "python3"
  },
  "language_info": {
   "codemirror_mode": {
    "name": "ipython",
    "version": 3
   },
   "file_extension": ".py",
   "mimetype": "text/x-python",
   "name": "python",
   "nbconvert_exporter": "python",
   "pygments_lexer": "ipython3",
   "version": "3.11.4"
  }
 },
 "nbformat": 4,
 "nbformat_minor": 2
}
