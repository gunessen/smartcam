{
 "cells": [
  {
   "cell_type": "code",
   "execution_count": 1,
   "metadata": {},
   "outputs": [],
   "source": [
    "import cv2\n",
    "\n",
    "import sys\n",
    "import os\n",
    "import datetime\n",
    "import threading\n",
    "import queue\n",
    "\n",
    "\n",
    "# Add the src directory to the sys.path list\n",
    "sys.path.insert(0, os.path.abspath('../src'))\n",
    "from services.event_service import add_event\n",
    "from db_models.init_db import create_tables\n",
    "from surveillance_daemon.object_detector import ObjectDetector\n",
    "from surveillance_daemon.video_capture import VideoCapture\n",
    "from surveillance_daemon.motion_detector import MotionDetector\n",
    "from surveillance_daemon.video_recorder import VideoRecorder\n",
    "from surveillance_daemon.notification import Notification"
   ]
  },
  {
   "cell_type": "code",
   "execution_count": 2,
   "metadata": {},
   "outputs": [
    {
     "name": "stdout",
     "output_type": "stream",
     "text": [
      "2024-05-17 22:21:20,062 INFO sqlalchemy.engine.Engine BEGIN (implicit)\n",
      "2024-05-17 22:21:20,062 INFO sqlalchemy.engine.Engine PRAGMA main.table_info(\"events\")\n",
      "2024-05-17 22:21:20,062 INFO sqlalchemy.engine.Engine [raw sql] ()\n",
      "2024-05-17 22:21:20,063 INFO sqlalchemy.engine.Engine COMMIT\n"
     ]
    }
   ],
   "source": [
    "# Initialize the database session\n",
    "create_tables()\n",
    "\n",
    "# Initialize system components\n",
    "object_detector = ObjectDetector(\n",
    "    \"../models/yolov7-tiny/yolov7-tiny.cfg\",\n",
    "    \"../models/yolov7-tiny/yolov7-tiny.weights\",\n",
    "    \"../data/coco.names\",\n",
    ")\n",
    "motion_detector = MotionDetector()\n",
    "notification = Notification(to_email=\"gunes314@gmail.com\")"
   ]
  },
  {
   "cell_type": "code",
   "execution_count": 3,
   "metadata": {},
   "outputs": [],
   "source": [
    "# Queue to store video paths to be processed\n",
    "video_queue = queue.Queue()\n",
    "\n",
    "def worker():\n",
    "    \"\"\"Worker thread that processes video files from the queue.\"\"\"\n",
    "    while True:\n",
    "        video_path = video_queue.get()\n",
    "        if video_path is None:\n",
    "            break\n",
    "        detected_objects, video_path = object_detector.process_video(video_path)\n",
    "        add_event(video_path, str(detected_objects))\n",
    "        # send a notification if an object is detected\n",
    "        if detected_objects:\n",
    "            notification.send(detected_objects)\n",
    "        video_queue.task_done()\n",
    "\n",
    "# Create and start the worker thread\n",
    "num_worker_threads = 1\n",
    "threads = []\n",
    "for i in range(num_worker_threads):\n",
    "    t = threading.Thread(target=worker)\n",
    "    t.start()\n",
    "    threads.append(t)"
   ]
  },
  {
   "cell_type": "code",
   "execution_count": 4,
   "metadata": {},
   "outputs": [
    {
     "name": "stdout",
     "output_type": "stream",
     "text": [
      "2024-05-17 22:21:31,114 INFO sqlalchemy.engine.Engine BEGIN (implicit)\n",
      "2024-05-17 22:21:31,115 INFO sqlalchemy.engine.Engine INSERT INTO events (video_path, objects, created_at) VALUES (?, ?, ?)\n",
      "2024-05-17 22:21:31,115 INFO sqlalchemy.engine.Engine [generated in 0.00026s] ('../videos/2024-05-17T22:21:24_annotated.avi', \"{'sofa', 'tvmonitor', 'bed'}\", datetime.datetime(2024, 5, 17, 20, 21, 19, 809970, tzinfo=datetime.timezone.utc))\n",
      "2024-05-17 22:21:31,116 INFO sqlalchemy.engine.Engine COMMIT\n",
      "{'sofa', 'tvmonitor', 'bed'}\n"
     ]
    },
    {
     "name": "stdout",
     "output_type": "stream",
     "text": [
      "Releasing camera\n"
     ]
    }
   ],
   "source": [
    "recording = False\n",
    "start_time = None\n",
    "\n",
    "with VideoCapture(device=0) as camera:\n",
    "    while True:\n",
    "        frame = camera.read_frame()\n",
    "        if frame is None:\n",
    "            break\n",
    "\n",
    "        font = cv2.FONT_HERSHEY_SIMPLEX\n",
    "        color = (0, 255, 0)\n",
    "\n",
    "        # Detect motion and start recording video\n",
    "        if motion_detector.detect_motion(frame):\n",
    "            cv2.putText(frame, \"M\", (10, 30), font, 0.5, color, 2)\n",
    "            if not recording:\n",
    "                recording = True\n",
    "                start_time = datetime.datetime.now()\n",
    "                video_recorder = VideoRecorder(folder=\"../videos\", fps=camera.get_fps(), width=camera.get_frame_width(), height=camera.get_frame_height())\n",
    "        \n",
    "        # Record video for 5 seconds\n",
    "        if recording:\n",
    "            cv2.putText(frame, \"R\", (30, 30), font, 0.5, color, 2)\n",
    "            video_recorder.write_frame(frame)\n",
    "            if (datetime.datetime.now() - start_time).total_seconds() > 5:\n",
    "                # Start object detection on a separate thread when video recording stops\n",
    "                video_queue.put(video_recorder.get_video_path())\n",
    "\n",
    "                # Clear the video recorder object\n",
    "                recording = False\n",
    "                video_recorder.release()\n",
    "                del video_recorder\n",
    "\n",
    "        cv2.imshow(\"Object detection\", frame)\n",
    "        if cv2.waitKey(1) == 27:\n",
    "            break\n",
    "\n",
    "    cv2.destroyAllWindows()"
   ]
  },
  {
   "cell_type": "code",
   "execution_count": null,
   "metadata": {},
   "outputs": [],
   "source": [
    "object_detector.process_video(\"../videos/2024-05-15T23:14:42.avi\")"
   ]
  },
  {
   "cell_type": "code",
   "execution_count": null,
   "metadata": {},
   "outputs": [],
   "source": [
    "camera.release()\n",
    "cv2.destroyAllWindows()"
   ]
  }
 ],
 "metadata": {
  "kernelspec": {
   "display_name": "code-dHgL50rw",
   "language": "python",
   "name": "python3"
  },
  "language_info": {
   "codemirror_mode": {
    "name": "ipython",
    "version": 3
   },
   "file_extension": ".py",
   "mimetype": "text/x-python",
   "name": "python",
   "nbconvert_exporter": "python",
   "pygments_lexer": "ipython3",
   "version": "3.11.4"
  }
 },
 "nbformat": 4,
 "nbformat_minor": 2
}
