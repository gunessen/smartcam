{
 "cells": [
  {
   "cell_type": "code",
   "execution_count": 1,
   "id": "92b571fa-2eee-41c3-a696-f325196b052e",
   "metadata": {},
   "outputs": [],
   "source": [
    "import cv2\n",
    "import numpy as np\n",
    "import time"
   ]
  },
  {
   "cell_type": "code",
   "execution_count": 12,
   "id": "13435a41-8efb-4fb3-afeb-56399f013ff1",
   "metadata": {},
   "outputs": [],
   "source": [
    "# Load YOLO\n",
    "# https://github.com/AlexeyAB/darknet/releases/download/yolov4/yolov4-tiny.weights\n",
    "# https://github.com/AlexeyAB/darknet/blob/master/cfg/yolov4-tiny.cfg\n",
    "net = cv2.dnn.readNet(\"models/yolov7-tiny/yolov7-tiny.weights\", \"models/yolov7-tiny/yolov7-tiny.cfg\")\n",
    "net.setPreferableBackend(cv2.dnn.DNN_BACKEND_OPENCV)\n",
    "net.setPreferableTarget(cv2.dnn.DNN_TARGET_CPU)\n",
    "\n",
    "classes = []\n",
    "with open(\"data/coco.names\", \"r\") as f:\n",
    "    classes = [line.strip() for line in f.readlines()]\n",
    "\n",
    "layer_names = net.getLayerNames()\n",
    "\n",
    "# Adjust the index access method for output layers\n",
    "output_layers = [layer_names[i - 1] for i in net.getUnconnectedOutLayers().flatten()]"
   ]
  },
  {
   "cell_type": "code",
   "execution_count": 13,
   "id": "3c14ee59-5d87-45b6-90a6-dcfbe490ca70",
   "metadata": {},
   "outputs": [],
   "source": [
    "# Load video\n",
    "cap = cv2.VideoCapture('your_video.mp4')"
   ]
  },
  {
   "cell_type": "code",
   "execution_count": 14,
   "id": "c4a2603e-3535-4308-be55-d61de278e65c",
   "metadata": {},
   "outputs": [
    {
     "name": "stderr",
     "output_type": "stream",
     "text": [
      "[ WARN:0@601.049] global cap_v4l.cpp:982 open VIDEOIO(V4L2:/dev/video0): can't open camera by index\n",
      "[ WARN:0@601.049] global cap.cpp:342 open VIDEOIO(V4L2): backend is generally available but can't be used to capture by index\n"
     ]
    },
    {
     "data": {
      "text/plain": [
       "False"
      ]
     },
     "execution_count": 14,
     "metadata": {},
     "output_type": "execute_result"
    }
   ],
   "source": [
    "# Start the webcam\n",
    "# TODO: possible edge case that video index starts from an arbitrary number,\n",
    "# then list devices with /dev/video* and choose the first one\n",
    "cap = cv2.VideoCapture(0, cv2.CAP_V4L2)\n",
    "\n",
    "# Set the codec to MJPEG (available formats: `v4l2-ctl --list-formats-ext`)\n",
    "fourcc = cv2.VideoWriter_fourcc(*'MJPG')\n",
    "cap.set(cv2.CAP_PROP_FOURCC, fourcc)\n",
    "\n",
    "# Set camera resolution (if needed)\n",
    "cap.set(cv2.CAP_PROP_FRAME_WIDTH, 1280)\n",
    "cap.set(cv2.CAP_PROP_FRAME_HEIGHT, 720)\n",
    "cap.set(cv2.CAP_PROP_FPS, 15)"
   ]
  },
  {
   "cell_type": "code",
   "execution_count": 15,
   "id": "c268930c-184f-4440-800a-52e5a8771071",
   "metadata": {},
   "outputs": [],
   "source": [
    "# Variables to calculate FPS\n",
    "frame_count = 0\n",
    "fps = 0\n",
    "start_time = time.time()\n",
    "\n",
    "while True:\n",
    "    ret, frame = cap.read()\n",
    "    if not ret:\n",
    "        break\n",
    "\n",
    "    # Resize frame of video to 1/4 size for faster face recognition processing\n",
    "    small_frame = cv2.resize(frame, (0, 0), fx=0.25, fy=0.25)\n",
    "\n",
    "    height, width, channels = frame.shape\n",
    "\n",
    "    # Detecting objects\n",
    "    blob = cv2.dnn.blobFromImage(frame, 0.00392, (416, 416), (0, 0, 0), True, crop=False)\n",
    "    net.setInput(blob)\n",
    "    outs = net.forward(output_layers)\n",
    "\n",
    "    # Information to show on the screen (class ids and confidence values)\n",
    "    class_ids = []\n",
    "    confidences = []\n",
    "    boxes = []\n",
    "    for out in outs:\n",
    "        for detection in out:\n",
    "            scores = detection[5:]\n",
    "            class_id = np.argmax(scores)\n",
    "            confidence = scores[class_id]\n",
    "            if confidence > 0.5:\n",
    "                # Object detected\n",
    "                center_x = int(detection[0] * width)\n",
    "                center_y = int(detection[1] * height)\n",
    "                w = int(detection[2] * width)\n",
    "                h = int(detection[3] * height)\n",
    "\n",
    "                # Rectangle coordinates\n",
    "                x = int(center_x - w / 2)\n",
    "                y = int(center_y - h / 2)\n",
    "\n",
    "                boxes.append([x, y, w, h])\n",
    "                confidences.append(float(confidence))\n",
    "                class_ids.append(class_id)\n",
    "\n",
    "    indexes = cv2.dnn.NMSBoxes(boxes, confidences, 0.5, 0.4)\n",
    "    for i in range(len(boxes)):\n",
    "        if i in indexes:\n",
    "            x, y, w, h = boxes[i]\n",
    "            label = str(classes[class_ids[i]])\n",
    "            cv2.rectangle(frame, (x, y), (x + w, y + h), (0, 255, 0), 2)\n",
    "            cv2.putText(frame, label, (x, y + 30), cv2.FONT_HERSHEY_PLAIN, 1, (0, 255, 0), 2)\n",
    "\n",
    "    # Increment the frame count\n",
    "    frame_count += 1\n",
    "\n",
    "    # Calculate FPS every second\n",
    "    current_time = time.time()\n",
    "    elapsed_time = current_time - start_time\n",
    "\n",
    "    if elapsed_time > 1:\n",
    "        fps = frame_count / elapsed_time\n",
    "        frame_count = 0\n",
    "        start_time = time.time()\n",
    "\n",
    "    # Display FPS on the frame\n",
    "    cv2.putText(frame, f\"FPS: {fps:.2f}\", (10, 30), cv2.FONT_HERSHEY_COMPLEX_SMALL, 1, (0, 255, 0), 2)\n",
    "    \n",
    "    cv2.imshow(\"Image\", frame)\n",
    "    key = cv2.waitKey(1)\n",
    "    if key == 27: # ESC key to break\n",
    "        break"
   ]
  },
  {
   "cell_type": "code",
   "execution_count": 11,
   "id": "8e63ccc6-12ed-4d40-a09c-d5782578f761",
   "metadata": {},
   "outputs": [],
   "source": [
    "# Clean up\n",
    "cap.release()\n",
    "cv2.destroyAllWindows()"
   ]
  }
 ],
 "metadata": {
  "kernelspec": {
   "display_name": "Python 3 (ipykernel)",
   "language": "python",
   "name": "python3"
  },
  "language_info": {
   "codemirror_mode": {
    "name": "ipython",
    "version": 3
   },
   "file_extension": ".py",
   "mimetype": "text/x-python",
   "name": "python",
   "nbconvert_exporter": "python",
   "pygments_lexer": "ipython3",
   "version": "3.11.4"
  }
 },
 "nbformat": 4,
 "nbformat_minor": 5
}
